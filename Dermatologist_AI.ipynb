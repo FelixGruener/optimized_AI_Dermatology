{
 "cells": [
  {
   "cell_type": "code",
   "execution_count": 1,
   "metadata": {},
   "outputs": [
    {
     "name": "stderr",
     "output_type": "stream",
     "text": [
      "Using TensorFlow backend.\n"
     ]
    }
   ],
   "source": [
    "from sklearn.datasets import load_files   \n",
    "from keras.utils import np_utils\n",
    "import numpy as np\n",
    "from glob import glob\n",
    "\n",
    "def load_dataset(data_path, shuffle=None):\n",
    "    kwargs = {}\n",
    "    if shuffle != None:\n",
    "        kwargs['shuffle'] = shuffle\n",
    "    data = load_files(data_path, **kwargs)\n",
    "    img_files = np.array(data['filenames'])\n",
    "    targets = np_utils.to_categorical(np.array(data['target']), 3)\n",
    "    return img_files, targets\n",
    "\n",
    "train_files, train_targets = load_dataset('data/train')\n",
    "valid_files, valid_targets = load_dataset('data/valid')\n",
    "test_files, test_targets = load_dataset('data/test', shuffle=False)\n",
    "\n",
    "# load lables\n",
    "label_name = [item[11:-1] for item in sorted(glob(\"data/train/*/\"))]"
   ]
  },
  {
   "cell_type": "code",
   "execution_count": 2,
   "metadata": {},
   "outputs": [
    {
     "name": "stdout",
     "output_type": "stream",
     "text": [
      "train_files size: 2000\n",
      "train_files shape: (2000,)\n",
      "target shape: (2000, 3)\n",
      "['melanoma', 'nevus', 'seborrheic_keratosis']\n"
     ]
    }
   ],
   "source": [
    "print('train_files size: {}'.format(len(train_files)))\n",
    "print('train_files shape: {}'.format(train_files.shape))\n",
    "print('target shape: {}'.format(train_targets.shape))\n",
    "print(label_name)"
   ]
  },
  {
   "cell_type": "code",
   "execution_count": 3,
   "metadata": {},
   "outputs": [],
   "source": [
    "from keras.preprocessing import image\n",
    "from keras.applications.inception_resnet_v2 import preprocess_input\n",
    "from tqdm import tqdm\n",
    "\n",
    "\n",
    "def path_to_tensor(img_path):\n",
    "    img = image.load_img(img_path, target_size=(384, 256))\n",
    "    x = image.img_to_array(img)\n",
    "    return np.expand_dims(x, axis=0)\n",
    "\n",
    "def paths_to_tensor(image_paths):\n",
    "    return np.vstack([path_to_tensor(path) for path in image_paths])"
   ]
  },
  {
   "cell_type": "code",
   "execution_count": 4,
   "metadata": {},
   "outputs": [
    {
     "name": "stderr",
     "output_type": "stream",
     "text": [
      "100%|██████████| 2000/2000 [09:44<00:00,  3.42it/s]\n",
      "100%|██████████| 150/150 [01:18<00:00,  2.20it/s]\n",
      "100%|██████████| 600/600 [08:08<00:00,  4.62it/s]\n"
     ]
    },
    {
     "name": "stdout",
     "output_type": "stream",
     "text": [
      "(2000, 384, 256, 3)\n"
     ]
    }
   ],
   "source": [
    "train_tensors = paths_to_tensor(tqdm(train_files))\n",
    "valid_tensors = paths_to_tensor(tqdm(valid_files))\n",
    "test_tensors = paths_to_tensor(tqdm(test_files))\n",
    "\n",
    "print(train_tensors.shape)"
   ]
  },
  {
   "cell_type": "code",
   "execution_count": 5,
   "metadata": {},
   "outputs": [],
   "source": [
    "# train_imgs_preprocess is created below\n",
    "train_imgs_preprocess = preprocess_input(train_tensors)\n",
    "valid_imgs_preprocess = preprocess_input(valid_tensors)\n",
    "test_imgs_preprocess = preprocess_input(test_tensors)\n",
    "del train_tensors, valid_tensors, test_tensors"
   ]
  },
  {
   "cell_type": "code",
   "execution_count": 6,
   "metadata": {},
   "outputs": [
    {
     "name": "stdout",
     "output_type": "stream",
     "text": [
      "(2000, 10, 6, 1536)\n"
     ]
    }
   ],
   "source": [
    "from keras.applications.inception_resnet_v2 import InceptionResNetV2\n",
    "transfer_model = InceptionResNetV2(include_top=False)\n",
    "\n",
    "train_data = transfer_model.predict(train_imgs_preprocess)\n",
    "valid_data = transfer_model.predict(valid_imgs_preprocess)\n",
    "test_data = transfer_model.predict(test_imgs_preprocess)\n",
    "\n",
    "del train_imgs_preprocess, valid_imgs_preprocess, test_imgs_preprocess\n",
    "print(train_data.shape)"
   ]
  },
  {
   "cell_type": "code",
   "execution_count": 9,
   "metadata": {
    "scrolled": false
   },
   "outputs": [
    {
     "data": {
      "text/plain": [
       "0"
      ]
     },
     "execution_count": 9,
     "metadata": {},
     "output_type": "execute_result"
    }
   ],
   "source": [
    "import gc\n",
    "gc.collect()"
   ]
  },
  {
   "cell_type": "code",
   "execution_count": 11,
   "metadata": {},
   "outputs": [
    {
     "name": "stdout",
     "output_type": "stream",
     "text": [
      "_________________________________________________________________\n",
      "Layer (type)                 Output Shape              Param #   \n",
      "=================================================================\n",
      "global_average_pooling2d_1 ( (None, 1536)              0         \n",
      "_________________________________________________________________\n",
      "dropout_1 (Dropout)          (None, 1536)              0         \n",
      "_________________________________________________________________\n",
      "dense_1 (Dense)              (None, 1024)              1573888   \n",
      "_________________________________________________________________\n",
      "dropout_2 (Dropout)          (None, 1024)              0         \n",
      "_________________________________________________________________\n",
      "dense_2 (Dense)              (None, 3)                 3075      \n",
      "=================================================================\n",
      "Total params: 1,576,963\n",
      "Trainable params: 1,576,963\n",
      "Non-trainable params: 0\n",
      "_________________________________________________________________\n"
     ]
    }
   ],
   "source": [
    "from keras.layers import Conv2D, Dropout, Flatten, Dense, MaxPooling2D, GlobalAveragePooling2D\n",
    "from keras.models import Sequential\n",
    "\n",
    "my_model = Sequential()\n",
    "# my_model = Sequential(inputs=transfer_model.input, outputs=transfer_model.get_layer('avg_pool').output)\n",
    "my_model.add(GlobalAveragePooling2D(input_shape=train_data.shape[1:]))\n",
    "my_model.add(Dropout(0.2))\n",
    "my_model.add(Dense(1024, activation='relu'))\n",
    "my_model.add(Dropout(0.2))\n",
    "\n",
    "my_model.add(Dense(3, activation='softmax'))\n",
    "my_model.summary()"
   ]
  },
  {
   "cell_type": "code",
   "execution_count": 12,
   "metadata": {},
   "outputs": [],
   "source": [
    "my_model.compile(loss='categorical_crossentropy', optimizer='adam', metrics=['accuracy'])"
   ]
  },
  {
   "cell_type": "code",
   "execution_count": 13,
   "metadata": {},
   "outputs": [
    {
     "name": "stdout",
     "output_type": "stream",
     "text": [
      "Train on 2000 samples, validate on 150 samples\n",
      "Epoch 1/60\n",
      "2000/2000 [==============================] - 4s 2ms/step - loss: 1.5470 - acc: 0.5340 - val_loss: 1.5347 - val_acc: 0.5200\n",
      "\n",
      "Epoch 00001: val_loss improved from inf to 1.53471, saving model to weights.best.my.hdf5\n",
      "Epoch 2/60\n",
      "2000/2000 [==============================] - 1s 447us/step - loss: 0.8302 - acc: 0.6615 - val_loss: 1.0035 - val_acc: 0.5200\n",
      "\n",
      "Epoch 00002: val_loss improved from 1.53471 to 1.00346, saving model to weights.best.my.hdf5\n",
      "Epoch 3/60\n",
      "2000/2000 [==============================] - 1s 447us/step - loss: 0.7474 - acc: 0.6970 - val_loss: 0.8463 - val_acc: 0.6133\n",
      "\n",
      "Epoch 00003: val_loss improved from 1.00346 to 0.84632, saving model to weights.best.my.hdf5\n",
      "Epoch 4/60\n",
      "2000/2000 [==============================] - 1s 447us/step - loss: 0.6850 - acc: 0.7100 - val_loss: 0.8857 - val_acc: 0.5733\n",
      "\n",
      "Epoch 00004: val_loss did not improve from 0.84632\n",
      "Epoch 5/60\n",
      "2000/2000 [==============================] - 1s 447us/step - loss: 0.6517 - acc: 0.7245 - val_loss: 0.8285 - val_acc: 0.6333\n",
      "\n",
      "Epoch 00005: val_loss improved from 0.84632 to 0.82853, saving model to weights.best.my.hdf5\n",
      "Epoch 6/60\n",
      "2000/2000 [==============================] - 1s 448us/step - loss: 0.6325 - acc: 0.7370 - val_loss: 0.7908 - val_acc: 0.6133\n",
      "\n",
      "Epoch 00006: val_loss improved from 0.82853 to 0.79082, saving model to weights.best.my.hdf5\n",
      "Epoch 7/60\n",
      "2000/2000 [==============================] - 1s 448us/step - loss: 0.6281 - acc: 0.7385 - val_loss: 0.7737 - val_acc: 0.6200\n",
      "\n",
      "Epoch 00007: val_loss improved from 0.79082 to 0.77371, saving model to weights.best.my.hdf5\n",
      "Epoch 8/60\n",
      "2000/2000 [==============================] - 1s 446us/step - loss: 0.6229 - acc: 0.7400 - val_loss: 0.7637 - val_acc: 0.6667\n",
      "\n",
      "Epoch 00008: val_loss improved from 0.77371 to 0.76366, saving model to weights.best.my.hdf5\n",
      "Epoch 9/60\n",
      "2000/2000 [==============================] - 1s 448us/step - loss: 0.6112 - acc: 0.7455 - val_loss: 0.7536 - val_acc: 0.6733\n",
      "\n",
      "Epoch 00009: val_loss improved from 0.76366 to 0.75362, saving model to weights.best.my.hdf5\n",
      "Epoch 10/60\n",
      "2000/2000 [==============================] - 1s 446us/step - loss: 0.6162 - acc: 0.7425 - val_loss: 0.7333 - val_acc: 0.6467\n",
      "\n",
      "Epoch 00010: val_loss improved from 0.75362 to 0.73327, saving model to weights.best.my.hdf5\n",
      "Epoch 11/60\n",
      "2000/2000 [==============================] - 1s 450us/step - loss: 0.6002 - acc: 0.7465 - val_loss: 0.7467 - val_acc: 0.6800\n",
      "\n",
      "Epoch 00011: val_loss did not improve from 0.73327\n",
      "Epoch 12/60\n",
      "2000/2000 [==============================] - 1s 447us/step - loss: 0.5783 - acc: 0.7530 - val_loss: 0.7420 - val_acc: 0.6933\n",
      "\n",
      "Epoch 00012: val_loss did not improve from 0.73327\n",
      "Epoch 13/60\n",
      "2000/2000 [==============================] - 1s 446us/step - loss: 0.5701 - acc: 0.7635 - val_loss: 0.7532 - val_acc: 0.6733\n",
      "\n",
      "Epoch 00013: val_loss did not improve from 0.73327\n",
      "Epoch 14/60\n",
      "2000/2000 [==============================] - 1s 450us/step - loss: 0.5687 - acc: 0.7630 - val_loss: 0.7115 - val_acc: 0.7000\n",
      "\n",
      "Epoch 00014: val_loss improved from 0.73327 to 0.71151, saving model to weights.best.my.hdf5\n",
      "Epoch 15/60\n",
      "2000/2000 [==============================] - 1s 448us/step - loss: 0.5452 - acc: 0.7695 - val_loss: 0.7672 - val_acc: 0.6533\n",
      "\n",
      "Epoch 00015: val_loss did not improve from 0.71151\n",
      "Epoch 16/60\n",
      "2000/2000 [==============================] - 1s 447us/step - loss: 0.5419 - acc: 0.7715 - val_loss: 0.7506 - val_acc: 0.6800\n",
      "\n",
      "Epoch 00016: val_loss did not improve from 0.71151\n",
      "Epoch 17/60\n",
      "2000/2000 [==============================] - 1s 452us/step - loss: 0.5287 - acc: 0.7765 - val_loss: 0.7104 - val_acc: 0.6933\n",
      "\n",
      "Epoch 00017: val_loss improved from 0.71151 to 0.71038, saving model to weights.best.my.hdf5\n",
      "Epoch 18/60\n",
      "2000/2000 [==============================] - 1s 453us/step - loss: 0.5313 - acc: 0.7750 - val_loss: 0.7162 - val_acc: 0.6933\n",
      "\n",
      "Epoch 00018: val_loss did not improve from 0.71038\n",
      "Epoch 19/60\n",
      "2000/2000 [==============================] - 1s 451us/step - loss: 0.5130 - acc: 0.7920 - val_loss: 0.7828 - val_acc: 0.6933\n",
      "\n",
      "Epoch 00019: val_loss did not improve from 0.71038\n",
      "Epoch 20/60\n",
      "2000/2000 [==============================] - 1s 449us/step - loss: 0.5167 - acc: 0.7795 - val_loss: 0.7173 - val_acc: 0.6867\n",
      "\n",
      "Epoch 00020: val_loss did not improve from 0.71038\n",
      "Epoch 21/60\n",
      "2000/2000 [==============================] - 1s 450us/step - loss: 0.4982 - acc: 0.7880 - val_loss: 0.7341 - val_acc: 0.6733\n",
      "\n",
      "Epoch 00021: val_loss did not improve from 0.71038\n",
      "Epoch 22/60\n",
      "2000/2000 [==============================] - 1s 447us/step - loss: 0.4931 - acc: 0.7930 - val_loss: 0.7281 - val_acc: 0.7000\n",
      "\n",
      "Epoch 00022: val_loss did not improve from 0.71038\n",
      "Epoch 23/60\n",
      "2000/2000 [==============================] - 1s 449us/step - loss: 0.4829 - acc: 0.8025 - val_loss: 0.7701 - val_acc: 0.6733\n",
      "\n",
      "Epoch 00023: val_loss did not improve from 0.71038\n",
      "Epoch 24/60\n",
      "2000/2000 [==============================] - 1s 447us/step - loss: 0.4778 - acc: 0.8065 - val_loss: 0.6928 - val_acc: 0.6867\n",
      "\n",
      "Epoch 00024: val_loss improved from 0.71038 to 0.69284, saving model to weights.best.my.hdf5\n",
      "Epoch 25/60\n",
      "2000/2000 [==============================] - 1s 448us/step - loss: 0.4822 - acc: 0.8010 - val_loss: 0.7038 - val_acc: 0.7400\n",
      "\n",
      "Epoch 00025: val_loss did not improve from 0.69284\n",
      "Epoch 26/60\n",
      "2000/2000 [==============================] - 1s 447us/step - loss: 0.4791 - acc: 0.8045 - val_loss: 0.8296 - val_acc: 0.6600\n",
      "\n",
      "Epoch 00026: val_loss did not improve from 0.69284\n",
      "Epoch 27/60\n",
      "2000/2000 [==============================] - 1s 449us/step - loss: 0.4988 - acc: 0.7890 - val_loss: 0.6872 - val_acc: 0.7133\n",
      "\n",
      "Epoch 00027: val_loss improved from 0.69284 to 0.68719, saving model to weights.best.my.hdf5\n",
      "Epoch 28/60\n",
      "2000/2000 [==============================] - 1s 448us/step - loss: 0.4766 - acc: 0.8045 - val_loss: 0.7752 - val_acc: 0.7000\n",
      "\n",
      "Epoch 00028: val_loss did not improve from 0.68719\n",
      "Epoch 29/60\n",
      "2000/2000 [==============================] - 1s 446us/step - loss: 0.4659 - acc: 0.8080 - val_loss: 0.6758 - val_acc: 0.7000\n",
      "\n",
      "Epoch 00029: val_loss improved from 0.68719 to 0.67578, saving model to weights.best.my.hdf5\n",
      "Epoch 30/60\n",
      "2000/2000 [==============================] - 1s 448us/step - loss: 0.4573 - acc: 0.8140 - val_loss: 0.7144 - val_acc: 0.7133\n",
      "\n",
      "Epoch 00030: val_loss did not improve from 0.67578\n",
      "Epoch 31/60\n",
      "2000/2000 [==============================] - 1s 448us/step - loss: 0.4621 - acc: 0.8065 - val_loss: 0.7826 - val_acc: 0.6533\n",
      "\n",
      "Epoch 00031: val_loss did not improve from 0.67578\n",
      "Epoch 32/60\n",
      "2000/2000 [==============================] - 1s 447us/step - loss: 0.4633 - acc: 0.8015 - val_loss: 0.7815 - val_acc: 0.6600\n",
      "\n",
      "Epoch 00032: val_loss did not improve from 0.67578\n",
      "Epoch 33/60\n",
      "2000/2000 [==============================] - 1s 447us/step - loss: 0.4470 - acc: 0.8245 - val_loss: 0.7572 - val_acc: 0.6867\n",
      "\n",
      "Epoch 00033: val_loss did not improve from 0.67578\n",
      "Epoch 34/60\n",
      "2000/2000 [==============================] - 1s 449us/step - loss: 0.4297 - acc: 0.8220 - val_loss: 0.6797 - val_acc: 0.7333\n",
      "\n",
      "Epoch 00034: val_loss did not improve from 0.67578\n",
      "Epoch 35/60\n",
      "2000/2000 [==============================] - 1s 447us/step - loss: 0.4277 - acc: 0.8275 - val_loss: 0.7020 - val_acc: 0.7133\n",
      "\n",
      "Epoch 00035: val_loss did not improve from 0.67578\n",
      "Epoch 36/60\n",
      "2000/2000 [==============================] - 1s 447us/step - loss: 0.4115 - acc: 0.8400 - val_loss: 0.7402 - val_acc: 0.6733\n",
      "\n",
      "Epoch 00036: val_loss did not improve from 0.67578\n",
      "Epoch 37/60\n",
      "2000/2000 [==============================] - 1s 448us/step - loss: 0.4197 - acc: 0.8250 - val_loss: 0.7104 - val_acc: 0.7000\n",
      "\n",
      "Epoch 00037: val_loss did not improve from 0.67578\n",
      "Epoch 38/60\n",
      "2000/2000 [==============================] - 1s 448us/step - loss: 0.4032 - acc: 0.8375 - val_loss: 0.6865 - val_acc: 0.7267\n",
      "\n",
      "Epoch 00038: val_loss did not improve from 0.67578\n",
      "Epoch 39/60\n",
      "2000/2000 [==============================] - 1s 449us/step - loss: 0.4134 - acc: 0.8280 - val_loss: 0.6934 - val_acc: 0.7333\n",
      "\n",
      "Epoch 00039: val_loss did not improve from 0.67578\n",
      "Epoch 40/60\n",
      "2000/2000 [==============================] - 1s 447us/step - loss: 0.3973 - acc: 0.8410 - val_loss: 0.7335 - val_acc: 0.7200\n",
      "\n",
      "Epoch 00040: val_loss did not improve from 0.67578\n",
      "Epoch 41/60\n",
      "2000/2000 [==============================] - 1s 447us/step - loss: 0.3894 - acc: 0.8375 - val_loss: 0.6673 - val_acc: 0.7133\n",
      "\n",
      "Epoch 00041: val_loss improved from 0.67578 to 0.66729, saving model to weights.best.my.hdf5\n",
      "Epoch 42/60\n",
      "2000/2000 [==============================] - 1s 449us/step - loss: 0.3950 - acc: 0.8365 - val_loss: 0.8730 - val_acc: 0.6400\n",
      "\n",
      "Epoch 00042: val_loss did not improve from 0.66729\n",
      "Epoch 43/60\n",
      "2000/2000 [==============================] - 1s 448us/step - loss: 0.3836 - acc: 0.8450 - val_loss: 0.6566 - val_acc: 0.7133\n",
      "\n",
      "Epoch 00043: val_loss improved from 0.66729 to 0.65665, saving model to weights.best.my.hdf5\n",
      "Epoch 44/60\n",
      "2000/2000 [==============================] - 1s 447us/step - loss: 0.3874 - acc: 0.8520 - val_loss: 0.7177 - val_acc: 0.7467\n",
      "\n",
      "Epoch 00044: val_loss did not improve from 0.65665\n",
      "Epoch 45/60\n",
      "2000/2000 [==============================] - 1s 450us/step - loss: 0.3963 - acc: 0.8350 - val_loss: 0.6848 - val_acc: 0.7600\n",
      "\n",
      "Epoch 00045: val_loss did not improve from 0.65665\n",
      "Epoch 46/60\n",
      "2000/2000 [==============================] - 1s 447us/step - loss: 0.3693 - acc: 0.8530 - val_loss: 0.7366 - val_acc: 0.7200\n",
      "\n",
      "Epoch 00046: val_loss did not improve from 0.65665\n",
      "Epoch 47/60\n",
      "2000/2000 [==============================] - 1s 448us/step - loss: 0.3512 - acc: 0.8660 - val_loss: 0.7589 - val_acc: 0.7133\n",
      "\n",
      "Epoch 00047: val_loss did not improve from 0.65665\n",
      "Epoch 48/60\n",
      "2000/2000 [==============================] - 1s 449us/step - loss: 0.3520 - acc: 0.8605 - val_loss: 0.7577 - val_acc: 0.6867\n",
      "\n",
      "Epoch 00048: val_loss did not improve from 0.65665\n",
      "Epoch 49/60\n",
      "2000/2000 [==============================] - 1s 456us/step - loss: 0.3349 - acc: 0.8700 - val_loss: 0.7308 - val_acc: 0.7133\n",
      "\n",
      "Epoch 00049: val_loss did not improve from 0.65665\n",
      "Epoch 50/60\n",
      "2000/2000 [==============================] - 1s 458us/step - loss: 0.3283 - acc: 0.8690 - val_loss: 0.7152 - val_acc: 0.7000\n",
      "\n",
      "Epoch 00050: val_loss did not improve from 0.65665\n",
      "Epoch 51/60\n",
      "2000/2000 [==============================] - 1s 455us/step - loss: 0.3542 - acc: 0.8555 - val_loss: 0.8510 - val_acc: 0.6933\n",
      "\n",
      "Epoch 00051: val_loss did not improve from 0.65665\n",
      "Epoch 52/60\n",
      "2000/2000 [==============================] - 1s 453us/step - loss: 0.3354 - acc: 0.8725 - val_loss: 0.6795 - val_acc: 0.7000\n",
      "\n",
      "Epoch 00052: val_loss did not improve from 0.65665\n",
      "Epoch 53/60\n",
      "2000/2000 [==============================] - 1s 449us/step - loss: 0.3166 - acc: 0.8755 - val_loss: 0.6966 - val_acc: 0.7400\n",
      "\n",
      "Epoch 00053: val_loss did not improve from 0.65665\n",
      "Epoch 54/60\n",
      "2000/2000 [==============================] - 1s 449us/step - loss: 0.3241 - acc: 0.8725 - val_loss: 0.7205 - val_acc: 0.7267\n",
      "\n",
      "Epoch 00054: val_loss did not improve from 0.65665\n",
      "Epoch 55/60\n",
      "2000/2000 [==============================] - 1s 451us/step - loss: 0.3158 - acc: 0.8765 - val_loss: 0.7272 - val_acc: 0.7200\n",
      "\n",
      "Epoch 00055: val_loss did not improve from 0.65665\n",
      "Epoch 56/60\n",
      "2000/2000 [==============================] - 1s 451us/step - loss: 0.3092 - acc: 0.8845 - val_loss: 0.7579 - val_acc: 0.6800\n",
      "\n",
      "Epoch 00056: val_loss did not improve from 0.65665\n",
      "Epoch 57/60\n",
      "2000/2000 [==============================] - 1s 450us/step - loss: 0.3163 - acc: 0.8775 - val_loss: 0.7297 - val_acc: 0.7400\n",
      "\n",
      "Epoch 00057: val_loss did not improve from 0.65665\n",
      "Epoch 58/60\n",
      "2000/2000 [==============================] - 1s 448us/step - loss: 0.3034 - acc: 0.8860 - val_loss: 0.6804 - val_acc: 0.7333\n",
      "\n",
      "Epoch 00058: val_loss did not improve from 0.65665\n",
      "Epoch 59/60\n",
      "2000/2000 [==============================] - 1s 456us/step - loss: 0.3030 - acc: 0.8845 - val_loss: 0.7410 - val_acc: 0.7267\n",
      "\n",
      "Epoch 00059: val_loss did not improve from 0.65665\n",
      "Epoch 60/60\n",
      "2000/2000 [==============================] - 1s 454us/step - loss: 0.3009 - acc: 0.8800 - val_loss: 0.7265 - val_acc: 0.7200\n",
      "\n",
      "Epoch 00060: val_loss did not improve from 0.65665\n"
     ]
    },
    {
     "data": {
      "text/plain": [
       "<keras.callbacks.History at 0x7ff1defe7390>"
      ]
     },
     "execution_count": 13,
     "metadata": {},
     "output_type": "execute_result"
    }
   ],
   "source": [
    "from keras.callbacks import ModelCheckpoint\n",
    "\n",
    "\n",
    "checkpoint_filepath = 'weights.best.my.hdf5'\n",
    "\n",
    "my_checkpointer = ModelCheckpoint(filepath=checkpoint_filepath,\n",
    "                               verbose=1, save_best_only=True)\n",
    "\n",
    "my_model.fit(train_data, train_targets, \n",
    "          validation_data=(valid_data, valid_targets),\n",
    "          epochs=60, batch_size=200, callbacks=[my_checkpointer], verbose=1)"
   ]
  },
  {
   "cell_type": "code",
   "execution_count": 14,
   "metadata": {},
   "outputs": [],
   "source": [
    "my_model.save('my_model.h5')\n",
    "# transfer_model.save('transfer_model.h5')\n",
    "my_model.load_weights(checkpoint_filepath)"
   ]
  },
  {
   "cell_type": "code",
   "execution_count": 15,
   "metadata": {},
   "outputs": [],
   "source": [
    "import csv\n",
    "\n",
    "\n",
    "my_predictions = [my_model.predict(np.expand_dims(feature, axis=0)) for feature in test_data]\n",
    "\n",
    "# test_accuracy = 100 * np.sum(np.array(my_predictions)==np.argmax(test_targets, axis=1)) / len(my_predictions)\n",
    "# print('Test accuracy: %.4f%%' % test_accuracy)\n",
    "\n",
    "with open('my_transfer.csv', 'w', newline='') as csvfile:\n",
    "    result_writger = csv.writer(csvfile)\n",
    "    result_writger.writerow(['Id', 'task_1', 'task_2'])\n",
    "    for test_filepath, test_prediction in zip(test_files, my_predictions):\n",
    "        result_writger.writerow([test_filepath, test_prediction[0][0], test_prediction[0][2]])"
   ]
  },
  {
   "cell_type": "code",
   "execution_count": 16,
   "metadata": {},
   "outputs": [],
   "source": [
    "%matplotlib inline\n",
    "import itertools\n",
    "import matplotlib.pyplot as plt\n",
    "import numpy as np\n",
    "import pandas as pd\n",
    "import sys\n",
    "\n",
    "from sklearn.metrics import roc_curve, auc, confusion_matrix"
   ]
  },
  {
   "cell_type": "code",
   "execution_count": 17,
   "metadata": {},
   "outputs": [],
   "source": [
    "def plot_roc_auc(y_true, y_pred):\n",
    "    \"\"\"\n",
    "    This function plots the ROC curves and provides the scores.\n",
    "    \"\"\"\n",
    "\n",
    "    # initialize dictionaries and array\n",
    "    fpr = dict()\n",
    "    tpr = dict()\n",
    "    roc_auc = np.zeros(3)\n",
    "    \n",
    "    # prepare for figure\n",
    "    plt.figure()\n",
    "    colors = ['aqua', 'cornflowerblue']\n",
    "\n",
    "    # for both classification tasks (categories 1 and 2)\n",
    "    for i in range(2):\n",
    "        # obtain ROC curve\n",
    "        fpr[i], tpr[i], _ = roc_curve(y_true[:,i], y_pred[:,i])\n",
    "        # obtain ROC AUC\n",
    "        roc_auc[i] = auc(fpr[i], tpr[i])\n",
    "        # plot ROC curve\n",
    "        plt.plot(fpr[i], tpr[i], color=colors[i], lw=2,\n",
    "                 label='ROC curve for task {d} (area = {f:.2f})'.format(d=i+1, f=roc_auc[i]))\n",
    "    # get score for category 3\n",
    "    roc_auc[2] = np.average(roc_auc[:2])\n",
    "    \n",
    "    # format figure\n",
    "    plt.plot([0, 1], [0, 1], 'k--', lw=2)\n",
    "    plt.xlim([0.0, 1.0])\n",
    "    plt.ylim([0.0, 1.05])\n",
    "    plt.xlabel('False Positive Rate')\n",
    "    plt.ylabel('True Positive Rate')\n",
    "    plt.title('ROC curves')\n",
    "    plt.legend(loc=\"lower right\")\n",
    "    plt.show()\n",
    "    \n",
    "    # print scores\n",
    "    for i in range(3):\n",
    "        print('Category {d} Score: {f:.3f}'. format(d=i+1, f=roc_auc[i]))\n",
    "\n",
    "def plot_confusion_matrix(y_true, y_pred, thresh, classes):\n",
    "    \"\"\"\n",
    "    This function plots the (normalized) confusion matrix.\n",
    "    \"\"\"\n",
    "\n",
    "    # obtain class predictions from probabilities\n",
    "    y_pred = (y_pred>=thresh)*1\n",
    "    # obtain (unnormalized) confusion matrix\n",
    "    cm = confusion_matrix(y_true, y_pred)\n",
    "    # normalize confusion matrix\n",
    "    cm = cm.astype('float') / cm.sum(axis=1)[:, np.newaxis]\n",
    "    \n",
    "    plt.figure()\n",
    "    plt.imshow(cm, interpolation='nearest', cmap=plt.cm.Blues)\n",
    "    plt.title('Confusion matrix')\n",
    "    plt.colorbar()\n",
    "    tick_marks = np.arange(len(classes))\n",
    "    plt.xticks(tick_marks, classes, rotation=45)\n",
    "    plt.yticks(tick_marks, classes)\n",
    "\n",
    "    thresh = cm.max() / 2.\n",
    "    for i, j in itertools.product(range(cm.shape[0]), range(cm.shape[1])):\n",
    "        plt.text(j, i, format(cm[i, j], '.2f'),\n",
    "                 horizontalalignment=\"center\",\n",
    "                 color=\"white\" if cm[i, j] > thresh else \"black\")\n",
    "\n",
    "    plt.tight_layout()\n",
    "    plt.ylabel('True label')\n",
    "    plt.xlabel('Predicted label')\n",
    "    plt.show()"
   ]
  },
  {
   "cell_type": "code",
   "execution_count": 18,
   "metadata": {},
   "outputs": [
    {
     "data": {
      "image/png": "[encoded data removed]",
      "text/plain": [
       "<Figure size 432x288 with 1 Axes>"
      ]
     },
     "metadata": {
      "needs_background": "light"
     },
     "output_type": "display_data"
    },
    {
     "name": "stdout",
     "output_type": "stream",
     "text": [
      "Category 1 Score: 0.762\n",
      "Category 2 Score: 0.878\n",
      "Category 3 Score: 0.820\n"
     ]
    },
    {
     "data": {
      "image/png": "[encoded data removed]",
      "text/plain": [
       "<Figure size 432x288 with 2 Axes>"
      ]
     },
     "metadata": {
      "needs_background": "light"
     },
     "output_type": "display_data"
    }
   ],
   "source": [
    "thresh = 0.5\n",
    "preds_path ='my_transfer.csv'\n",
    "# get ground truth labels for test dataset\n",
    "truth = pd.read_csv('ground_truth.csv')\n",
    "y_true = truth.as_matrix(columns=[\"task_1\", \"task_2\"])\n",
    "\n",
    "# get model predictions for test dataset\n",
    "y_pred = pd.read_csv(preds_path)\n",
    "y_pred = y_pred.as_matrix(columns=[\"task_1\", \"task_2\"])\n",
    "\n",
    "# plot ROC curves and print scores\n",
    "plot_roc_auc(y_true, y_pred)\n",
    "# plot confusion matrix\n",
    "classes = ['benign', 'malignant']\n",
    "plot_confusion_matrix(y_true[:,0], y_pred[:,0], thresh, classes)"
   ]
  }
 ],
 "metadata": {
  "kernelspec": {
   "display_name": "Environment (conda_tensorflow_p36)",
   "language": "python",
   "name": "conda_tensorflow_p36"
  },
  "language_info": {
   "codemirror_mode": {
    "name": "ipython",
    "version": 3
   },
   "file_extension": ".py",
   "mimetype": "text/x-python",
   "name": "python",
   "nbconvert_exporter": "python",
   "pygments_lexer": "ipython3",
   "version": "3.6.6"
  }
 },
 "nbformat": 4,
 "nbformat_minor": 2
}
